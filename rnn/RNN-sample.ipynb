{
 "cells": [
  {
   "cell_type": "markdown",
   "metadata": {},
   "source": [
    "# RNNのサンプル"
   ]
  },
  {
   "cell_type": "code",
   "execution_count": 118,
   "metadata": {},
   "outputs": [],
   "source": [
    "import torch\n",
    "import torch.nn as nn\n",
    "import torch.utils.data.dataset as dataset"
   ]
  },
  {
   "cell_type": "code",
   "execution_count": 119,
   "metadata": {},
   "outputs": [],
   "source": [
    "from itertools import product\n",
    "from torch import optim"
   ]
  },
  {
   "cell_type": "code",
   "execution_count": 120,
   "metadata": {},
   "outputs": [],
   "source": [
    "import numpy as np"
   ]
  },
  {
   "cell_type": "code",
   "execution_count": 131,
   "metadata": {},
   "outputs": [],
   "source": [
    "rnn = nn.RNN(5, 5, num_layers=1, batch_first=True)\n",
    "linear = nn.Linear(5, 10)"
   ]
  },
  {
   "cell_type": "markdown",
   "metadata": {},
   "source": [
    "### RNNのウェイトの確認"
   ]
  },
  {
   "cell_type": "code",
   "execution_count": 127,
   "metadata": {},
   "outputs": [
    {
     "name": "stdout",
     "output_type": "stream",
     "text": [
      "weight_ih_l0 torch.Size([5, 8])\n",
      "weight_hh_l0 torch.Size([5, 5])\n",
      "bias_ih_l0 torch.Size([5])\n",
      "bias_hh_l0 torch.Size([5])\n"
     ]
    }
   ],
   "source": [
    "for name, param in rnn.named_parameters():\n",
    "    print(name, param.shape)"
   ]
  },
  {
   "cell_type": "code",
   "execution_count": 5,
   "metadata": {},
   "outputs": [
    {
     "data": {
      "text/plain": [
       "Parameter containing:\n",
       "tensor([[ 0.1304,  0.0484, -0.0746, -0.2373,  0.2006],\n",
       "        [-0.2036,  0.4044,  0.2243, -0.0367, -0.1840],\n",
       "        [ 0.1824,  0.1060, -0.4190,  0.1855,  0.1987],\n",
       "        [-0.2924, -0.1629, -0.1887,  0.4057,  0.1515],\n",
       "        [-0.1252,  0.3730, -0.2733, -0.4062, -0.3863]], requires_grad=True)"
      ]
     },
     "execution_count": 5,
     "metadata": {},
     "output_type": "execute_result"
    }
   ],
   "source": [
    "rnn.weight_hh_l0"
   ]
  },
  {
   "cell_type": "code",
   "execution_count": 128,
   "metadata": {},
   "outputs": [
    {
     "data": {
      "text/plain": [
       "['weight_ih_l0', 'weight_hh_l0', 'bias_ih_l0', 'bias_hh_l0']"
      ]
     },
     "execution_count": 128,
     "metadata": {},
     "output_type": "execute_result"
    }
   ],
   "source": [
    "rnn._flat_weights_names"
   ]
  },
  {
   "cell_type": "markdown",
   "metadata": {},
   "source": [
    "## RNNのウェイト"
   ]
  },
  {
   "cell_type": "code",
   "execution_count": 129,
   "metadata": {},
   "outputs": [],
   "source": [
    "_rnn = nn.RNN(5, 5, num_layers=2, batch_first=True)\n",
    "#linear = nn.Linear(5, 10)"
   ]
  },
  {
   "cell_type": "code",
   "execution_count": 130,
   "metadata": {},
   "outputs": [
    {
     "data": {
      "text/plain": [
       "['weight_ih_l0',\n",
       " 'weight_hh_l0',\n",
       " 'bias_ih_l0',\n",
       " 'bias_hh_l0',\n",
       " 'weight_ih_l1',\n",
       " 'weight_hh_l1',\n",
       " 'bias_ih_l1',\n",
       " 'bias_hh_l1']"
      ]
     },
     "execution_count": 130,
     "metadata": {},
     "output_type": "execute_result"
    }
   ],
   "source": [
    "_rnn._flat_weights_names"
   ]
  },
  {
   "cell_type": "markdown",
   "metadata": {},
   "source": [
    "- バッチサイズ: 3\n",
    "- 時系列の時間: 4\n",
    "- 一回の入力の次元: 2\n",
    "の場合で出力"
   ]
  },
  {
   "cell_type": "code",
   "execution_count": 134,
   "metadata": {},
   "outputs": [],
   "source": [
    "_x = np.arange(60).reshape(3, 4, 5) # mini batch数\n",
    "x = torch.tensor(_x).float()"
   ]
  },
  {
   "cell_type": "code",
   "execution_count": 135,
   "metadata": {},
   "outputs": [
    {
     "data": {
      "text/plain": [
       "(tensor([[[ 0.8440, -0.4665, -0.2097,  0.9931,  0.9468],\n",
       "          [ 0.9982, -0.8589, -0.4894,  1.0000,  0.9970],\n",
       "          [ 1.0000, -0.9728, -0.9148,  1.0000,  1.0000],\n",
       "          [ 1.0000, -0.9945, -0.9902,  1.0000,  1.0000]],\n",
       " \n",
       "         [[ 1.0000, -0.9981, -0.9999,  1.0000,  1.0000],\n",
       "          [ 1.0000, -0.9997, -0.9999,  1.0000,  1.0000],\n",
       "          [ 1.0000, -0.9999, -1.0000,  1.0000,  1.0000],\n",
       "          [ 1.0000, -1.0000, -1.0000,  1.0000,  1.0000]],\n",
       " \n",
       "         [[ 1.0000, -1.0000, -1.0000,  1.0000,  1.0000],\n",
       "          [ 1.0000, -1.0000, -1.0000,  1.0000,  1.0000],\n",
       "          [ 1.0000, -1.0000, -1.0000,  1.0000,  1.0000],\n",
       "          [ 1.0000, -1.0000, -1.0000,  1.0000,  1.0000]]],\n",
       "        grad_fn=<TransposeBackward1>),\n",
       " tensor([[[ 1.0000, -0.9945, -0.9902,  1.0000,  1.0000],\n",
       "          [ 1.0000, -1.0000, -1.0000,  1.0000,  1.0000],\n",
       "          [ 1.0000, -1.0000, -1.0000,  1.0000,  1.0000]]],\n",
       "        grad_fn=<StackBackward>))"
      ]
     },
     "execution_count": 135,
     "metadata": {},
     "output_type": "execute_result"
    }
   ],
   "source": [
    "rnn(x)\n",
    "# 入力, 中間状態"
   ]
  },
  {
   "cell_type": "code",
   "execution_count": 136,
   "metadata": {},
   "outputs": [
    {
     "data": {
      "text/plain": [
       "torch.Size([3, 4, 5])"
      ]
     },
     "execution_count": 136,
     "metadata": {},
     "output_type": "execute_result"
    }
   ],
   "source": [
    "rnn(x)[0].shape"
   ]
  },
  {
   "cell_type": "code",
   "execution_count": 145,
   "metadata": {},
   "outputs": [
    {
     "data": {
      "text/plain": [
       "[(0, 0),\n",
       " (0, 1),\n",
       " (0, 2),\n",
       " (0, 3),\n",
       " (0, 4),\n",
       " (1, 0),\n",
       " (1, 1),\n",
       " (1, 2),\n",
       " (1, 3),\n",
       " (1, 4),\n",
       " (2, 0),\n",
       " (2, 1),\n",
       " (2, 2),\n",
       " (2, 3),\n",
       " (2, 4),\n",
       " (3, 0),\n",
       " (3, 1),\n",
       " (3, 2),\n",
       " (3, 3),\n",
       " (3, 4),\n",
       " (4, 0),\n",
       " (4, 1),\n",
       " (4, 2),\n",
       " (4, 3),\n",
       " (4, 4)]"
      ]
     },
     "execution_count": 145,
     "metadata": {},
     "output_type": "execute_result"
    }
   ],
   "source": [
    "list(product([0, 1, 2, 3, 4], [0, 1, 2, 3, 4]))"
   ]
  },
  {
   "cell_type": "code",
   "execution_count": 144,
   "metadata": {},
   "outputs": [
    {
     "data": {
      "text/plain": [
       "tensor([0., 0., 0., 1., 0., 0., 0., 0., 0., 0.])"
      ]
     },
     "execution_count": 144,
     "metadata": {},
     "output_type": "execute_result"
    }
   ],
   "source": [
    "torch.eye(10)[3]\n",
    "# 3の位置が立つone-hot"
   ]
  },
  {
   "cell_type": "code",
   "execution_count": 143,
   "metadata": {},
   "outputs": [
    {
     "data": {
      "text/plain": [
       "tensor([[1., 0., 0., 0., 0.],\n",
       "        [0., 1., 0., 0., 0.],\n",
       "        [0., 0., 1., 0., 0.],\n",
       "        [0., 0., 0., 1., 0.],\n",
       "        [0., 0., 0., 0., 1.]])"
      ]
     },
     "execution_count": 143,
     "metadata": {},
     "output_type": "execute_result"
    }
   ],
   "source": [
    "torch.eye(5)"
   ]
  },
  {
   "cell_type": "markdown",
   "metadata": {},
   "source": [
    "## 足し算のデータセット"
   ]
  },
  {
   "cell_type": "code",
   "execution_count": 146,
   "metadata": {},
   "outputs": [],
   "source": [
    "class PlusDataset(dataset.Dataset):\n",
    "    def __init__(self):\n",
    "        super(PlusDataset).__init__()\n",
    "        self.dataset  = list(product([0, 1,2,3,4], [0, 1, 2, 3, 4]))\n",
    "        \n",
    "    def __len__(self):\n",
    "        return len(self.dataset)\n",
    "        \n",
    "    def __getitem__(self, idx):\n",
    "        temp = torch.eye(5)\n",
    "        inp = self.dataset[idx]\n",
    "        out = inp[0] + inp[1]\n",
    "        inp = torch.cat((temp[inp[0]], temp[inp[1]]),0).view(2, -1)\n",
    "        inp = inp.float()\n",
    "        \n",
    "        \n",
    "        return inp, torch.tensor(out)"
   ]
  },
  {
   "cell_type": "code",
   "execution_count": 147,
   "metadata": {},
   "outputs": [],
   "source": [
    "data = PlusDataset()"
   ]
  },
  {
   "cell_type": "code",
   "execution_count": 150,
   "metadata": {},
   "outputs": [
    {
     "data": {
      "text/plain": [
       "(tensor([[0., 0., 0., 0., 1.],\n",
       "         [0., 0., 0., 0., 1.]]),\n",
       " tensor(8))"
      ]
     },
     "execution_count": 150,
     "metadata": {},
     "output_type": "execute_result"
    }
   ],
   "source": [
    "data[24]"
   ]
  },
  {
   "cell_type": "code",
   "execution_count": 152,
   "metadata": {},
   "outputs": [],
   "source": [
    "class MathRNN(nn.Module):\n",
    "    def __init__(self):\n",
    "        super(MathRNN, self).__init__()\n",
    "        self.rnn = nn.RNN(5, 5, num_layers=1, batch_first=True)\n",
    "        self.l = nn.Linear(5, 10)\n",
    "        \n",
    "    def forward(self, x):\n",
    "        pred, hidden = self.rnn(x)\n",
    "        h = pred[:, -1]\n",
    "        return self.l(h)"
   ]
  },
  {
   "cell_type": "code",
   "execution_count": 153,
   "metadata": {},
   "outputs": [],
   "source": [
    "rnn = MathRNN()"
   ]
  },
  {
   "cell_type": "code",
   "execution_count": 154,
   "metadata": {},
   "outputs": [],
   "source": [
    "dataloader = torch.utils.data.DataLoader(data, batch_size=5)\n",
    "criterion = nn.CrossEntropyLoss()\n",
    "optimizer = optim.SGD(rnn.parameters(), lr=0.1)"
   ]
  },
  {
   "cell_type": "markdown",
   "metadata": {},
   "source": [
    "## 足し算の学習"
   ]
  },
  {
   "cell_type": "code",
   "execution_count": 155,
   "metadata": {},
   "outputs": [
    {
     "name": "stdout",
     "output_type": "stream",
     "text": [
      "tensor(2.3150, grad_fn=<NllLossBackward>)\n",
      "tensor(1.1440, grad_fn=<NllLossBackward>)\n",
      "tensor(0.7044, grad_fn=<NllLossBackward>)\n",
      "tensor(0.5135, grad_fn=<NllLossBackward>)\n",
      "tensor(0.4167, grad_fn=<NllLossBackward>)\n",
      "tensor(0.3278, grad_fn=<NllLossBackward>)\n",
      "tensor(0.2687, grad_fn=<NllLossBackward>)\n",
      "tensor(0.2365, grad_fn=<NllLossBackward>)\n",
      "tensor(0.2190, grad_fn=<NllLossBackward>)\n",
      "tensor(0.2081, grad_fn=<NllLossBackward>)\n"
     ]
    }
   ],
   "source": [
    "for i in range(1000):\n",
    "    for x, y in dataloader:\n",
    "        optimizer.zero_grad()\n",
    "        rnn.train()\n",
    "        h = rnn(x)\n",
    "        loss = criterion(h, y)\n",
    "        loss.backward()\n",
    "        optimizer.step()\n",
    "    if i % 100 == 0:\n",
    "        print(loss) \n",
    "        #writer.add_scalar('Loss/train', loss, i)"
   ]
  },
  {
   "cell_type": "code",
   "execution_count": 156,
   "metadata": {},
   "outputs": [
    {
     "name": "stdout",
     "output_type": "stream",
     "text": [
      "pred tensor([0, 1, 2, 3, 4], grad_fn=<NotImplemented>)\n",
      "ans tensor([0, 1, 2, 3, 4])\n",
      "pred tensor([1, 2, 3, 4, 5], grad_fn=<NotImplemented>)\n",
      "ans tensor([1, 2, 3, 4, 5])\n",
      "pred tensor([2, 3, 4, 5, 6], grad_fn=<NotImplemented>)\n",
      "ans tensor([2, 3, 4, 5, 6])\n",
      "pred tensor([3, 4, 5, 6, 8], grad_fn=<NotImplemented>)\n",
      "ans tensor([3, 4, 5, 6, 7])\n",
      "pred tensor([4, 5, 6, 7, 7], grad_fn=<NotImplemented>)\n",
      "ans tensor([4, 5, 6, 7, 8])\n"
     ]
    }
   ],
   "source": [
    "for x, y in dataloader:\n",
    "    h = rnn(x)\n",
    "    print(\"pred\", torch.argmax(h, dim=1))\n",
    "    print(\"ans\", y)"
   ]
  },
  {
   "cell_type": "code",
   "execution_count": 481,
   "metadata": {},
   "outputs": [
    {
     "data": {
      "text/plain": [
       "tensor([[[0., 0., 0., 0., 1.],\n",
       "         [1., 0., 0., 0., 0.]],\n",
       "\n",
       "        [[0., 0., 0., 0., 1.],\n",
       "         [0., 1., 0., 0., 0.]],\n",
       "\n",
       "        [[0., 0., 0., 0., 1.],\n",
       "         [0., 0., 1., 0., 0.]],\n",
       "\n",
       "        [[0., 0., 0., 0., 1.],\n",
       "         [0., 0., 0., 1., 0.]],\n",
       "\n",
       "        [[0., 0., 0., 0., 1.],\n",
       "         [0., 0., 0., 0., 1.]]])"
      ]
     },
     "execution_count": 481,
     "metadata": {},
     "output_type": "execute_result"
    }
   ],
   "source": [
    "x"
   ]
  },
  {
   "cell_type": "code",
   "execution_count": 426,
   "metadata": {},
   "outputs": [
    {
     "data": {
      "text/plain": [
       "tensor([0, 1, 2, 4, 4], grad_fn=<NotImplemented>)"
      ]
     },
     "execution_count": 426,
     "metadata": {},
     "output_type": "execute_result"
    }
   ],
   "source": [
    "torch.argmax(h,dim=1)"
   ]
  },
  {
   "cell_type": "code",
   "execution_count": 427,
   "metadata": {},
   "outputs": [
    {
     "data": {
      "text/plain": [
       "tensor([0, 1, 2, 3, 4])"
      ]
     },
     "execution_count": 427,
     "metadata": {},
     "output_type": "execute_result"
    }
   ],
   "source": [
    "y"
   ]
  },
  {
   "cell_type": "code",
   "execution_count": 414,
   "metadata": {},
   "outputs": [
    {
     "data": {
      "text/plain": [
       "tensor([[ 0.3659, -0.2023,  0.0612, -0.1573,  0.6058,  0.2608, -0.0274,  0.6628,\n",
       "          0.0113, -0.6395],\n",
       "        [ 0.0879,  0.2451,  0.1780, -0.0040,  0.5666,  0.5742,  0.1723,  0.3757,\n",
       "         -0.4286, -0.3901],\n",
       "        [-0.4286,  0.4608, -0.1104, -0.1323,  0.4608,  0.5899,  0.5407,  0.5890,\n",
       "         -0.1533, -0.2838],\n",
       "        [-0.3141,  0.0639, -0.3741, -0.2679,  0.5420,  0.2932,  0.4965,  0.9807,\n",
       "          0.3498, -0.5635],\n",
       "        [-0.2892, -0.0716, -0.4387, -0.3085,  0.5471,  0.1944,  0.4602,  1.0667,\n",
       "          0.4795, -0.6223]], grad_fn=<AddmmBackward>)"
      ]
     },
     "execution_count": 414,
     "metadata": {},
     "output_type": "execute_result"
    }
   ],
   "source": [
    "h"
   ]
  },
  {
   "cell_type": "code",
   "execution_count": 369,
   "metadata": {},
   "outputs": [
    {
     "data": {
      "text/plain": [
       "tensor([[[0., 0., 0., 0., 1., 0., 0., 0., 0., 0.],\n",
       "         [1., 0., 0., 0., 0., 0., 0., 0., 0., 0.]],\n",
       "\n",
       "        [[0., 0., 0., 0., 1., 0., 0., 0., 0., 0.],\n",
       "         [0., 1., 0., 0., 0., 0., 0., 0., 0., 0.]],\n",
       "\n",
       "        [[0., 0., 0., 0., 1., 0., 0., 0., 0., 0.],\n",
       "         [0., 0., 1., 0., 0., 0., 0., 0., 0., 0.]],\n",
       "\n",
       "        [[0., 0., 0., 0., 1., 0., 0., 0., 0., 0.],\n",
       "         [0., 0., 0., 1., 0., 0., 0., 0., 0., 0.]],\n",
       "\n",
       "        [[0., 0., 0., 0., 1., 0., 0., 0., 0., 0.],\n",
       "         [0., 0., 0., 0., 1., 0., 0., 0., 0., 0.]]])"
      ]
     },
     "execution_count": 369,
     "metadata": {},
     "output_type": "execute_result"
    }
   ],
   "source": [
    "x"
   ]
  },
  {
   "cell_type": "code",
   "execution_count": 370,
   "metadata": {},
   "outputs": [
    {
     "data": {
      "text/plain": [
       "tensor([4, 5, 5, 6, 6], grad_fn=<NotImplemented>)"
      ]
     },
     "execution_count": 370,
     "metadata": {},
     "output_type": "execute_result"
    }
   ],
   "source": [
    "torch.argmax(pred[:, 1],dim=1)"
   ]
  },
  {
   "cell_type": "code",
   "execution_count": 376,
   "metadata": {},
   "outputs": [
    {
     "data": {
      "text/plain": [
       "tensor([[[0., 0., 0., 0., 1., 0., 0., 0., 0., 0.],\n",
       "         [1., 0., 0., 0., 0., 0., 0., 0., 0., 0.]],\n",
       "\n",
       "        [[0., 0., 0., 0., 1., 0., 0., 0., 0., 0.],\n",
       "         [0., 1., 0., 0., 0., 0., 0., 0., 0., 0.]],\n",
       "\n",
       "        [[0., 0., 0., 0., 1., 0., 0., 0., 0., 0.],\n",
       "         [0., 0., 1., 0., 0., 0., 0., 0., 0., 0.]],\n",
       "\n",
       "        [[0., 0., 0., 0., 1., 0., 0., 0., 0., 0.],\n",
       "         [0., 0., 0., 1., 0., 0., 0., 0., 0., 0.]],\n",
       "\n",
       "        [[0., 0., 0., 0., 1., 0., 0., 0., 0., 0.],\n",
       "         [0., 0., 0., 0., 1., 0., 0., 0., 0., 0.]]])"
      ]
     },
     "execution_count": 376,
     "metadata": {},
     "output_type": "execute_result"
    }
   ],
   "source": [
    "x"
   ]
  },
  {
   "cell_type": "code",
   "execution_count": 375,
   "metadata": {},
   "outputs": [
    {
     "name": "stdout",
     "output_type": "stream",
     "text": [
      "pred tensor([4, 4, 4, 4, 4], grad_fn=<NotImplemented>)\n",
      "ans tensor([0, 1, 2, 3, 4])\n",
      "pred tensor([4, 4, 4, 4, 5], grad_fn=<NotImplemented>)\n",
      "ans tensor([1, 2, 3, 4, 5])\n",
      "pred tensor([3, 4, 3, 3, 6], grad_fn=<NotImplemented>)\n",
      "ans tensor([2, 3, 4, 5, 6])\n",
      "pred tensor([4, 5, 5, 5, 6], grad_fn=<NotImplemented>)\n",
      "ans tensor([3, 4, 5, 6, 7])\n",
      "pred tensor([4, 5, 5, 6, 6], grad_fn=<NotImplemented>)\n",
      "ans tensor([4, 5, 6, 7, 8])\n"
     ]
    }
   ],
   "source": [
    "for x, y in dataloader:\n",
    "    pred, h = rnn(x)\n",
    "    print(\"pred\", torch.argmax(pred[:, 1],dim=1))\n",
    "    print(\"ans\", y)"
   ]
  },
  {
   "cell_type": "code",
   "execution_count": 371,
   "metadata": {},
   "outputs": [
    {
     "data": {
      "text/plain": [
       "tensor([4, 5, 6, 7, 8])"
      ]
     },
     "execution_count": 371,
     "metadata": {},
     "output_type": "execute_result"
    }
   ],
   "source": [
    "y"
   ]
  },
  {
   "cell_type": "code",
   "execution_count": 344,
   "metadata": {},
   "outputs": [
    {
     "data": {
      "text/plain": [
       "tensor(2.4156, grad_fn=<NllLossBackward>)"
      ]
     },
     "execution_count": 344,
     "metadata": {},
     "output_type": "execute_result"
    }
   ],
   "source": [
    "loss"
   ]
  },
  {
   "cell_type": "code",
   "execution_count": 321,
   "metadata": {},
   "outputs": [
    {
     "data": {
      "text/plain": [
       "tensor([0, 1, 2, 3, 4, 1, 2, 3, 4, 5, 2, 3, 4, 5, 6, 3, 4, 5, 6, 7, 4, 5, 6, 7,\n",
       "        8])"
      ]
     },
     "execution_count": 321,
     "metadata": {},
     "output_type": "execute_result"
    }
   ],
   "source": [
    "y"
   ]
  },
  {
   "cell_type": "code",
   "execution_count": 309,
   "metadata": {},
   "outputs": [
    {
     "data": {
      "text/plain": [
       "torch.Size([1, 2, 10])"
      ]
     },
     "execution_count": 309,
     "metadata": {},
     "output_type": "execute_result"
    }
   ],
   "source": [
    "h.shape"
   ]
  },
  {
   "cell_type": "code",
   "execution_count": 306,
   "metadata": {},
   "outputs": [
    {
     "data": {
      "text/plain": [
       "torch.Size([25, 2, 10])"
      ]
     },
     "execution_count": 306,
     "metadata": {},
     "output_type": "execute_result"
    }
   ],
   "source": [
    "pred.shape"
   ]
  },
  {
   "cell_type": "markdown",
   "metadata": {},
   "source": [
    "## 演習\n",
    "- RNNをMSEで実装せよ\n",
    "  - なかなかうまくいかないことを確認して欲しい\n",
    "- あまりうまくいかなかったので改善"
   ]
  },
  {
   "cell_type": "markdown",
   "metadata": {},
   "source": [
    "# RNNの計算グラフ"
   ]
  },
  {
   "cell_type": "code",
   "execution_count": 559,
   "metadata": {},
   "outputs": [],
   "source": [
    "from torch.utils.tensorboard import SummaryWriter\n",
    "writer = SummaryWriter()"
   ]
  },
  {
   "cell_type": "code",
   "execution_count": 560,
   "metadata": {},
   "outputs": [],
   "source": [
    "writer.add_graph(rnn, x)"
   ]
  },
  {
   "cell_type": "code",
   "execution_count": 557,
   "metadata": {},
   "outputs": [],
   "source": [
    "write.close()"
   ]
  },
  {
   "cell_type": "code",
   "execution_count": 558,
   "metadata": {},
   "outputs": [
    {
     "data": {
      "text/plain": [
       "tensor([[[0., 0., 0., 0., 1.],\n",
       "         [1., 0., 0., 0., 0.]],\n",
       "\n",
       "        [[0., 0., 0., 0., 1.],\n",
       "         [0., 1., 0., 0., 0.]],\n",
       "\n",
       "        [[0., 0., 0., 0., 1.],\n",
       "         [0., 0., 1., 0., 0.]],\n",
       "\n",
       "        [[0., 0., 0., 0., 1.],\n",
       "         [0., 0., 0., 1., 0.]],\n",
       "\n",
       "        [[0., 0., 0., 0., 1.],\n",
       "         [0., 0., 0., 0., 1.]]])"
      ]
     },
     "execution_count": 558,
     "metadata": {},
     "output_type": "execute_result"
    }
   ],
   "source": [
    "x"
   ]
  },
  {
   "cell_type": "code",
   "execution_count": 551,
   "metadata": {},
   "outputs": [
    {
     "data": {
      "text/plain": [
       "MathRNN(\n",
       "  (rnn): RNN(5, 5, batch_first=True)\n",
       "  (l): Linear(in_features=5, out_features=10, bias=True)\n",
       ")"
      ]
     },
     "execution_count": 551,
     "metadata": {},
     "output_type": "execute_result"
    }
   ],
   "source": [
    "rnn"
   ]
  },
  {
   "cell_type": "markdown",
   "metadata": {},
   "source": [
    "# LSTM"
   ]
  },
  {
   "cell_type": "code",
   "execution_count": 492,
   "metadata": {},
   "outputs": [],
   "source": [
    "lstm = nn.LSTM(5, 5, num_layers=1, batch_first=True)\n",
    "l2 = nn.Linear(5, 10)"
   ]
  },
  {
   "cell_type": "code",
   "execution_count": 522,
   "metadata": {},
   "outputs": [],
   "source": [
    "class MathLSTM(nn.Module):\n",
    "    def __init__(self):\n",
    "        super(MathLSTM, self).__init__()\n",
    "        self.lstm = nn.LSTM(5, 5, num_layers=1, batch_first=True)\n",
    "        self.l = nn.Linear(5, 10)\n",
    "        \n",
    "    def forward(self, x):\n",
    "        pred, hidden = self.lstm(x)\n",
    "        h = pred[:, -1]\n",
    "        return self.l(h)"
   ]
  },
  {
   "cell_type": "code",
   "execution_count": 523,
   "metadata": {},
   "outputs": [],
   "source": [
    "lstm = MathLSTM()"
   ]
  },
  {
   "cell_type": "code",
   "execution_count": 524,
   "metadata": {},
   "outputs": [],
   "source": [
    "dataloader = torch.utils.data.DataLoader(data, batch_size=5)\n",
    "criterion = nn.CrossEntropyLoss()\n",
    "# MSEで学習させたらひどいことになった\n",
    "optimizer = optim.SGD(lstm.parameters(), lr=0.1)"
   ]
  },
  {
   "cell_type": "code",
   "execution_count": 544,
   "metadata": {},
   "outputs": [
    {
     "name": "stdout",
     "output_type": "stream",
     "text": [
      "tensor(0.0007, grad_fn=<NllLossBackward>)\n"
     ]
    }
   ],
   "source": [
    "for i in range(1000):\n",
    "    for x, y in dataloader:\n",
    "        optimizer.zero_grad()\n",
    "        lstm.train()\n",
    "        pred = lstm(x)\n",
    "        loss = criterion(pred, y)\n",
    "        loss.backward()\n",
    "        optimizer.step()\n",
    "    if i % 1000 == 0:\n",
    "        print(loss) "
   ]
  },
  {
   "cell_type": "code",
   "execution_count": 545,
   "metadata": {},
   "outputs": [
    {
     "name": "stdout",
     "output_type": "stream",
     "text": [
      "pred tensor([0, 1, 2, 3, 4], grad_fn=<NotImplemented>)\n",
      "ans tensor([0, 1, 2, 3, 4])\n",
      "pred tensor([1, 2, 3, 4, 5], grad_fn=<NotImplemented>)\n",
      "ans tensor([1, 2, 3, 4, 5])\n",
      "pred tensor([2, 3, 4, 5, 6], grad_fn=<NotImplemented>)\n",
      "ans tensor([2, 3, 4, 5, 6])\n",
      "pred tensor([3, 4, 5, 6, 7], grad_fn=<NotImplemented>)\n",
      "ans tensor([3, 4, 5, 6, 7])\n",
      "pred tensor([4, 5, 6, 7, 8], grad_fn=<NotImplemented>)\n",
      "ans tensor([4, 5, 6, 7, 8])\n"
     ]
    }
   ],
   "source": [
    "for x, y in dataloader:\n",
    "    pred  = lstm(x)\n",
    "    print(\"pred\", torch.argmax(pred, dim=1))\n",
    "    print(\"ans\", y)"
   ]
  },
  {
   "cell_type": "code",
   "execution_count": 597,
   "metadata": {},
   "outputs": [
    {
     "data": {
      "text/plain": [
       "tensor([[5, 6],\n",
       "        [7, 8]])"
      ]
     },
     "execution_count": 597,
     "metadata": {},
     "output_type": "execute_result"
    }
   ],
   "source": [
    "_x = torch.cat([torch.tensor([[1, 2], [5,6]]), torch.tensor([[3,4], [7,8]])]).view(2, 2, 2)\n",
    "torch.transpose(_x, 0, 1)"
   ]
  },
  {
   "cell_type": "markdown",
   "metadata": {},
   "source": [
    "## NaiveなRNNの実装"
   ]
  },
  {
   "cell_type": "code",
   "execution_count": 30,
   "metadata": {},
   "outputs": [],
   "source": [
    "import torch.nn.functional as F"
   ]
  },
  {
   "cell_type": "code",
   "execution_count": 50,
   "metadata": {},
   "outputs": [],
   "source": [
    "class NaiveRNNCell(nn.Module):\n",
    "    def __init__(self, input_size, hidden_size):\n",
    "        super(NaiveRNNCell, self).__init__()\n",
    "        \n",
    "        self.hidden_size = hidden_size\n",
    "        self.i2h = nn.Linear(input_size, hidden_size)\n",
    "        self.h2h = nn.Linear(hidden_size, hidden_size)\n",
    "        \n",
    "    def forward(self, inp, hidden):\n",
    "        return F.relu(self.h2h(hidden) + self.i2h(inp))"
   ]
  },
  {
   "cell_type": "code",
   "execution_count": 55,
   "metadata": {},
   "outputs": [],
   "source": [
    "class NaiveRNN(nn.Module):\n",
    "    def __init__(self, input_size, hidden_size):\n",
    "        super(NaiveRNN, self).__init__()\n",
    "        \n",
    "        self.hidden_size = hidden_size\n",
    "        self.i2h = nn.Linear(input_size, hidden_size)\n",
    "        self.h2h = nn.Linear(hidden_size, hidden_size)\n",
    "        self.hidden = torch.zeros(hidden_size)\n",
    "        self.rnn_cell = NaiveRNNCell(input_size, hidden_size)\n",
    "        \n",
    "    def forward(self, inputs):\n",
    "        outputs = []\n",
    "        seq_len = inputs.shape[1]\n",
    "        batch_size = inputs.shape[0]\n",
    "        for i in range(seq_len):\n",
    "            inp = inputs[:, i]\n",
    "            hidden = self.rnn_cell(inp, self.hidden)\n",
    "            outputs.append(self.hidden)\n",
    "        \n",
    "        _y = torch.cat(outputs).view(seq_len, batch_size, -1)\n",
    "        return torch.transpose(_y, 0, 1)   "
   ]
  },
  {
   "cell_type": "code",
   "execution_count": 83,
   "metadata": {},
   "outputs": [],
   "source": [
    "class NaiveRNN(nn.Module):\n",
    "    def __init__(self, input_size, hidden_size):\n",
    "        super(NaiveRNN, self).__init__()\n",
    "        \n",
    "        self.hidden_size = hidden_size\n",
    "        self.i2h = nn.Linear(input_size, hidden_size)\n",
    "        self.h2h = nn.Linear(hidden_size, hidden_size)\n",
    "        self.hidden = torch.zeros(hidden_size)\n",
    "        \n",
    "    def forward(self, inputs):\n",
    "        outputs = [self.hidden]\n",
    "        seq_len = inputs.shape[1]\n",
    "        batch_size = inputs.shape[0]\n",
    "        for i in range(seq_len):\n",
    "            inp = inputs[:, i]\n",
    "            hidden = F.relu(self.h2h(outputs[-1]) + self.i2h(inp))\n",
    "            outputs.append(hidden)\n",
    "        \n",
    "        _y = torch.cat(outputs[1:]).view(seq_len, batch_size, -1)\n",
    "        return torch.transpose(_y, 0, 1)"
   ]
  },
  {
   "cell_type": "code",
   "execution_count": 159,
   "metadata": {},
   "outputs": [],
   "source": [
    "class NaiveRNN(nn.Module):\n",
    "    def __init__(self, input_size, hidden_size):\n",
    "        super(NaiveRNN, self).__init__()\n",
    "        self.hidden_size = hidden_size\n",
    "        self.i2h = nn.Linear(input_size, hidden_size)\n",
    "        self.h2h = nn.Linear(hidden_size, hidden_size)\n",
    "        \n",
    "    def forward(self, inputs):\n",
    "        hidden = torch.zeros(self.hidden_size)\n",
    "        outputs = []\n",
    "        seq_len = inputs.shape[1]\n",
    "        batch_size = inputs.shape[0]\n",
    "        for i in range(seq_len):\n",
    "            inp = inputs[:, i]\n",
    "            hidden = F.relu(self.h2h(hidden) + self.i2h(inp))\n",
    "            outputs.append(hidden)\n",
    "        _y = torch.cat(outputs).view(seq_len, batch_size, -1)\n",
    "        # batch, seq, dimに変形\n",
    "        return torch.transpose(_y, 0, 1)"
   ]
  },
  {
   "cell_type": "code",
   "execution_count": 160,
   "metadata": {},
   "outputs": [],
   "source": [
    "class NMath(nn.Module):\n",
    "    def __init__(self):\n",
    "        super(NMath, self).__init__()\n",
    "        self.rnn = NaiveRNN(5, 5)\n",
    "        self.l = nn.Linear(5, 10)\n",
    "        \n",
    "    def forward(self, x):\n",
    "        pred = self.rnn(x)\n",
    "        h = pred[:, -1]\n",
    "        return self.l(h)"
   ]
  },
  {
   "cell_type": "code",
   "execution_count": 161,
   "metadata": {},
   "outputs": [],
   "source": [
    "n_rnn = NaiveRNN(5, 5)"
   ]
  },
  {
   "cell_type": "code",
   "execution_count": 162,
   "metadata": {},
   "outputs": [
    {
     "data": {
      "text/plain": [
       "tensor([[[0.0000, 0.3257, 0.0000, 0.0000, 0.1836],\n",
       "         [0.1489, 0.2018, 0.0024, 0.2134, 0.0000]],\n",
       "\n",
       "        [[0.0000, 0.3257, 0.0000, 0.0000, 0.1836],\n",
       "         [0.2429, 0.0000, 0.0000, 0.7218, 0.0000]],\n",
       "\n",
       "        [[0.0000, 0.3257, 0.0000, 0.0000, 0.1836],\n",
       "         [0.2851, 0.0000, 0.0000, 0.0304, 0.0000]],\n",
       "\n",
       "        [[0.0000, 0.3257, 0.0000, 0.0000, 0.1836],\n",
       "         [0.4303, 0.2198, 0.0000, 0.0000, 0.0000]],\n",
       "\n",
       "        [[0.0000, 0.3257, 0.0000, 0.0000, 0.1836],\n",
       "         [0.0000, 0.3445, 0.0000, 0.0000, 0.1162]]],\n",
       "       grad_fn=<TransposeBackward0>)"
      ]
     },
     "execution_count": 162,
     "metadata": {},
     "output_type": "execute_result"
    }
   ],
   "source": [
    "n_rnn(x)"
   ]
  },
  {
   "cell_type": "code",
   "execution_count": 104,
   "metadata": {},
   "outputs": [
    {
     "data": {
      "text/plain": [
       "torch.Size([5, 2, 5])"
      ]
     },
     "execution_count": 104,
     "metadata": {},
     "output_type": "execute_result"
    }
   ],
   "source": [
    "x.shape"
   ]
  },
  {
   "cell_type": "code",
   "execution_count": 163,
   "metadata": {},
   "outputs": [],
   "source": [
    "n_math  = NMath()"
   ]
  },
  {
   "cell_type": "code",
   "execution_count": 164,
   "metadata": {},
   "outputs": [],
   "source": [
    "n_optimizer = optim.SGD(n_math.parameters(), lr=0.1)"
   ]
  },
  {
   "cell_type": "code",
   "execution_count": 107,
   "metadata": {},
   "outputs": [],
   "source": [
    "import time#time関数を取得\n",
    "\n",
    "start = time.time()#開始時刻"
   ]
  },
  {
   "cell_type": "code",
   "execution_count": 165,
   "metadata": {},
   "outputs": [
    {
     "name": "stdout",
     "output_type": "stream",
     "text": [
      "tensor(2.2062, grad_fn=<NllLossBackward>)\n",
      "tensor(1.5152, grad_fn=<NllLossBackward>)\n",
      "tensor(0.7306, grad_fn=<NllLossBackward>)\n",
      "tensor(0.3185, grad_fn=<NllLossBackward>)\n",
      "tensor(0.1271, grad_fn=<NllLossBackward>)\n",
      "tensor(0.0931, grad_fn=<NllLossBackward>)\n",
      "tensor(0.0652, grad_fn=<NllLossBackward>)\n",
      "tensor(0.0468, grad_fn=<NllLossBackward>)\n",
      "tensor(0.0350, grad_fn=<NllLossBackward>)\n",
      "tensor(0.0287, grad_fn=<NllLossBackward>)\n",
      "4.145867109298706 秒\n"
     ]
    }
   ],
   "source": [
    "start = time.time()#開始時刻\n",
    "\n",
    "for i in range(1000):\n",
    "    for x, y in dataloader:\n",
    "        n_optimizer.zero_grad()\n",
    "        n_math.train()\n",
    "        h = n_math(x)\n",
    "        loss = criterion(h, y)\n",
    "        loss.backward()\n",
    "        n_optimizer.step()\n",
    "    if i % 100 == 0:\n",
    "        print(loss)\n",
    "        #writer.add_scalar('Loss/train', loss, i)\n",
    "\n",
    "end = time.time()#終了時刻\n",
    "print(end-start, '秒')#終了時刻-開始時刻でかかった時間"
   ]
  },
  {
   "cell_type": "code",
   "execution_count": null,
   "metadata": {},
   "outputs": [],
   "source": [
    "print(x)"
   ]
  },
  {
   "cell_type": "code",
   "execution_count": 638,
   "metadata": {},
   "outputs": [
    {
     "data": {
      "text/plain": [
       "tensor(2.1491, grad_fn=<NllLossBackward>)"
      ]
     },
     "execution_count": 638,
     "metadata": {},
     "output_type": "execute_result"
    }
   ],
   "source": [
    "loss"
   ]
  },
  {
   "cell_type": "markdown",
   "metadata": {},
   "source": [
    "## NaiveなLSTM実装\n",
    "- 前提 bathch, sequence, dimが入力\n",
    "- initiのときの引数は input_dim, hidden_dim"
   ]
  },
  {
   "cell_type": "code",
   "execution_count": null,
   "metadata": {},
   "outputs": [],
   "source": []
  }
 ],
 "metadata": {
  "kernelspec": {
   "display_name": "Python 3",
   "language": "python",
   "name": "python3"
  },
  "language_info": {
   "codemirror_mode": {
    "name": "ipython",
    "version": 3
   },
   "file_extension": ".py",
   "mimetype": "text/x-python",
   "name": "python",
   "nbconvert_exporter": "python",
   "pygments_lexer": "ipython3",
   "version": "3.7.0"
  }
 },
 "nbformat": 4,
 "nbformat_minor": 4
}
