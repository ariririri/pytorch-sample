{
 "cells": [
  {
   "cell_type": "markdown",
   "metadata": {},
   "source": [
    "# RNNのサンプル"
   ]
  },
  {
   "cell_type": "code",
   "execution_count": 23,
   "metadata": {},
   "outputs": [],
   "source": [
    "import torch\n",
    "import torch.nn as nn\n",
    "import  torch.utils.data.dataset as dataset"
   ]
  },
  {
   "cell_type": "code",
   "execution_count": 37,
   "metadata": {},
   "outputs": [],
   "source": [
    "from itertools import product\n",
    "from torch import optim"
   ]
  },
  {
   "cell_type": "code",
   "execution_count": 10,
   "metadata": {},
   "outputs": [],
   "source": [
    "import numpy as np"
   ]
  },
  {
   "cell_type": "code",
   "execution_count": 645,
   "metadata": {},
   "outputs": [],
   "source": [
    "rnn = nn.RNN(5, 5, num_layers=1, batch_first=True)\n",
    "linear = nn.Linear(5, 10)"
   ]
  },
  {
   "cell_type": "markdown",
   "metadata": {},
   "source": [
    "### RNNのウェイトの確認"
   ]
  },
  {
   "cell_type": "code",
   "execution_count": 646,
   "metadata": {},
   "outputs": [
    {
     "data": {
      "text/plain": [
       "Parameter containing:\n",
       "tensor([[-0.2343,  0.3293, -0.0650, -0.0586, -0.1384],\n",
       "        [-0.1853,  0.2573,  0.4297, -0.0663, -0.3710],\n",
       "        [ 0.3644,  0.2861, -0.0428,  0.3978, -0.3781],\n",
       "        [-0.4281, -0.0053,  0.4115,  0.4333,  0.3549],\n",
       "        [ 0.1766,  0.2981,  0.3812,  0.0575,  0.0387]], requires_grad=True)"
      ]
     },
     "execution_count": 646,
     "metadata": {},
     "output_type": "execute_result"
    }
   ],
   "source": [
    "rnn.weight_hh_l0"
   ]
  },
  {
   "cell_type": "code",
   "execution_count": 435,
   "metadata": {},
   "outputs": [
    {
     "data": {
      "text/plain": [
       "['weight_ih_l0', 'weight_hh_l0', 'bias_ih_l0', 'bias_hh_l0']"
      ]
     },
     "execution_count": 435,
     "metadata": {},
     "output_type": "execute_result"
    }
   ],
   "source": [
    "rnn._flat_weights_names"
   ]
  },
  {
   "cell_type": "markdown",
   "metadata": {},
   "source": [
    "- バッチサイズ: 3\n",
    "- 時系列の時間: 4\n",
    "- 一回の入力の次元: 2\n",
    "の場合で出力"
   ]
  },
  {
   "cell_type": "code",
   "execution_count": 436,
   "metadata": {},
   "outputs": [],
   "source": [
    "_x = np.arange(60).reshape(3, 4, 5) # mini batch数\n",
    "x = torch.tensor(_x).float()"
   ]
  },
  {
   "cell_type": "code",
   "execution_count": 437,
   "metadata": {},
   "outputs": [
    {
     "data": {
      "text/plain": [
       "(tensor([[[ 0.6747, -0.5906,  0.9993,  0.9918,  0.9502],\n",
       "          [ 0.9688, -0.9860,  1.0000,  1.0000,  0.9965],\n",
       "          [ 0.9964, -0.9995,  1.0000,  1.0000,  0.9998],\n",
       "          [ 0.9996, -1.0000,  1.0000,  1.0000,  1.0000]],\n",
       " \n",
       "         [[ 0.9999, -1.0000,  1.0000,  1.0000,  1.0000],\n",
       "          [ 1.0000, -1.0000,  1.0000,  1.0000,  1.0000],\n",
       "          [ 1.0000, -1.0000,  1.0000,  1.0000,  1.0000],\n",
       "          [ 1.0000, -1.0000,  1.0000,  1.0000,  1.0000]],\n",
       " \n",
       "         [[ 1.0000, -1.0000,  1.0000,  1.0000,  1.0000],\n",
       "          [ 1.0000, -1.0000,  1.0000,  1.0000,  1.0000],\n",
       "          [ 1.0000, -1.0000,  1.0000,  1.0000,  1.0000],\n",
       "          [ 1.0000, -1.0000,  1.0000,  1.0000,  1.0000]]],\n",
       "        grad_fn=<TransposeBackward1>),\n",
       " tensor([[[ 0.9996, -1.0000,  1.0000,  1.0000,  1.0000],\n",
       "          [ 1.0000, -1.0000,  1.0000,  1.0000,  1.0000],\n",
       "          [ 1.0000, -1.0000,  1.0000,  1.0000,  1.0000]]],\n",
       "        grad_fn=<StackBackward>))"
      ]
     },
     "execution_count": 437,
     "metadata": {},
     "output_type": "execute_result"
    }
   ],
   "source": [
    "rnn(x)\n",
    "# 入力, 中間状態"
   ]
  },
  {
   "cell_type": "code",
   "execution_count": 188,
   "metadata": {},
   "outputs": [
    {
     "data": {
      "text/plain": [
       "tensor([0., 0., 0., 1., 0., 0., 0., 0., 0., 0.])"
      ]
     },
     "execution_count": 188,
     "metadata": {},
     "output_type": "execute_result"
    }
   ],
   "source": [
    "torch.eye(10)[3]"
   ]
  },
  {
   "cell_type": "markdown",
   "metadata": {},
   "source": [
    "## 足し算の教育"
   ]
  },
  {
   "cell_type": "code",
   "execution_count": 456,
   "metadata": {},
   "outputs": [],
   "source": [
    "class PlusDataset(dataset.Dataset):\n",
    "    def __init__(self):\n",
    "        super(PlusDataset).__init__()\n",
    "        self.dataset  = list(product([0, 1,2,3,4], [0, 1, 2, 3, 4]))\n",
    "        \n",
    "    def __len__(self):\n",
    "        return len(self.dataset)\n",
    "        \n",
    "    def __getitem__(self, idx):\n",
    "        temp = torch.eye(5)\n",
    "        inp = self.dataset[idx]\n",
    "        out = inp[0] + inp[1]\n",
    "        inp = torch.cat((temp[inp[0]], temp[inp[1]]),0).view(2, -1)\n",
    "        inp = inp.float()\n",
    "        \n",
    "        \n",
    "        return inp, torch.tensor(out)"
   ]
  },
  {
   "cell_type": "code",
   "execution_count": 457,
   "metadata": {},
   "outputs": [],
   "source": [
    "data = PlusDataset()"
   ]
  },
  {
   "cell_type": "code",
   "execution_count": 440,
   "metadata": {},
   "outputs": [
    {
     "data": {
      "text/plain": [
       "(tensor([[1., 0., 0., 0., 0.],\n",
       "         [1., 0., 0., 0., 0.]]),\n",
       " tensor(0))"
      ]
     },
     "execution_count": 440,
     "metadata": {},
     "output_type": "execute_result"
    }
   ],
   "source": [
    "data[0]"
   ]
  },
  {
   "cell_type": "code",
   "execution_count": 536,
   "metadata": {},
   "outputs": [],
   "source": [
    "class MathRNN(nn.Module):\n",
    "    def __init__(self):\n",
    "        super(MathRNN, self).__init__()\n",
    "        self.rnn = nn.RNN(5, 5, num_layers=1, batch_first=True)\n",
    "        self.l = nn.Linear(5, 10)\n",
    "        \n",
    "    def forward(self, x):\n",
    "        pred, hidden = self.rnn(x)\n",
    "        h = pred[:, -1]\n",
    "        return self.l(h)"
   ]
  },
  {
   "cell_type": "code",
   "execution_count": 537,
   "metadata": {},
   "outputs": [],
   "source": [
    "rnn = MathRNN()"
   ]
  },
  {
   "cell_type": "code",
   "execution_count": 538,
   "metadata": {},
   "outputs": [],
   "source": [
    "dataloader = torch.utils.data.DataLoader(data, batch_size=5)\n",
    "criterion = nn.CrossEntropyLoss()\n",
    "# MSEで学習させたらひどいことになった\n",
    "optimizer = optim.SGD(rnn.parameters(), lr=0.1)"
   ]
  },
  {
   "cell_type": "markdown",
   "metadata": {},
   "source": [
    "## 足し算の学習"
   ]
  },
  {
   "cell_type": "code",
   "execution_count": 561,
   "metadata": {},
   "outputs": [
    {
     "name": "stdout",
     "output_type": "stream",
     "text": [
      "tensor(0.0060, grad_fn=<NllLossBackward>)\n",
      "tensor(0.0060, grad_fn=<NllLossBackward>)\n",
      "tensor(0.0059, grad_fn=<NllLossBackward>)\n",
      "tensor(0.0058, grad_fn=<NllLossBackward>)\n",
      "tensor(0.0058, grad_fn=<NllLossBackward>)\n",
      "tensor(0.0057, grad_fn=<NllLossBackward>)\n",
      "tensor(0.0056, grad_fn=<NllLossBackward>)\n",
      "tensor(0.0056, grad_fn=<NllLossBackward>)\n",
      "tensor(0.0055, grad_fn=<NllLossBackward>)\n",
      "tensor(0.0055, grad_fn=<NllLossBackward>)\n"
     ]
    }
   ],
   "source": [
    "for i in range(1000):\n",
    "    for x, y in dataloader:\n",
    "        optimizer.zero_grad()\n",
    "        rnn.train()\n",
    "        h = rnn(x)\n",
    "        loss = criterion(h, y)\n",
    "\n",
    "        loss.backward()\n",
    "        optimizer.step()\n",
    "    if i % 100 == 0:\n",
    "        print(loss) \n",
    "        writer.add_scalar('Loss/train', loss, i)"
   ]
  },
  {
   "cell_type": "code",
   "execution_count": 548,
   "metadata": {},
   "outputs": [
    {
     "name": "stdout",
     "output_type": "stream",
     "text": [
      "pred tensor([0, 1, 2, 3, 4], grad_fn=<NotImplemented>)\n",
      "ans tensor([0, 1, 2, 3, 4])\n",
      "pred tensor([1, 2, 3, 4, 5], grad_fn=<NotImplemented>)\n",
      "ans tensor([1, 2, 3, 4, 5])\n",
      "pred tensor([2, 3, 4, 5, 6], grad_fn=<NotImplemented>)\n",
      "ans tensor([2, 3, 4, 5, 6])\n",
      "pred tensor([3, 4, 5, 6, 7], grad_fn=<NotImplemented>)\n",
      "ans tensor([3, 4, 5, 6, 7])\n",
      "pred tensor([4, 5, 6, 7, 8], grad_fn=<NotImplemented>)\n",
      "ans tensor([4, 5, 6, 7, 8])\n"
     ]
    }
   ],
   "source": [
    "for x, y in dataloader:\n",
    "    h = rnn(x)\n",
    "    print(\"pred\", torch.argmax(h, dim=1))\n",
    "    print(\"ans\", y)"
   ]
  },
  {
   "cell_type": "code",
   "execution_count": 481,
   "metadata": {},
   "outputs": [
    {
     "data": {
      "text/plain": [
       "tensor([[[0., 0., 0., 0., 1.],\n",
       "         [1., 0., 0., 0., 0.]],\n",
       "\n",
       "        [[0., 0., 0., 0., 1.],\n",
       "         [0., 1., 0., 0., 0.]],\n",
       "\n",
       "        [[0., 0., 0., 0., 1.],\n",
       "         [0., 0., 1., 0., 0.]],\n",
       "\n",
       "        [[0., 0., 0., 0., 1.],\n",
       "         [0., 0., 0., 1., 0.]],\n",
       "\n",
       "        [[0., 0., 0., 0., 1.],\n",
       "         [0., 0., 0., 0., 1.]]])"
      ]
     },
     "execution_count": 481,
     "metadata": {},
     "output_type": "execute_result"
    }
   ],
   "source": [
    "x"
   ]
  },
  {
   "cell_type": "code",
   "execution_count": 426,
   "metadata": {},
   "outputs": [
    {
     "data": {
      "text/plain": [
       "tensor([0, 1, 2, 4, 4], grad_fn=<NotImplemented>)"
      ]
     },
     "execution_count": 426,
     "metadata": {},
     "output_type": "execute_result"
    }
   ],
   "source": [
    "torch.argmax(h,dim=1)"
   ]
  },
  {
   "cell_type": "code",
   "execution_count": 427,
   "metadata": {},
   "outputs": [
    {
     "data": {
      "text/plain": [
       "tensor([0, 1, 2, 3, 4])"
      ]
     },
     "execution_count": 427,
     "metadata": {},
     "output_type": "execute_result"
    }
   ],
   "source": [
    "y"
   ]
  },
  {
   "cell_type": "code",
   "execution_count": 414,
   "metadata": {},
   "outputs": [
    {
     "data": {
      "text/plain": [
       "tensor([[ 0.3659, -0.2023,  0.0612, -0.1573,  0.6058,  0.2608, -0.0274,  0.6628,\n",
       "          0.0113, -0.6395],\n",
       "        [ 0.0879,  0.2451,  0.1780, -0.0040,  0.5666,  0.5742,  0.1723,  0.3757,\n",
       "         -0.4286, -0.3901],\n",
       "        [-0.4286,  0.4608, -0.1104, -0.1323,  0.4608,  0.5899,  0.5407,  0.5890,\n",
       "         -0.1533, -0.2838],\n",
       "        [-0.3141,  0.0639, -0.3741, -0.2679,  0.5420,  0.2932,  0.4965,  0.9807,\n",
       "          0.3498, -0.5635],\n",
       "        [-0.2892, -0.0716, -0.4387, -0.3085,  0.5471,  0.1944,  0.4602,  1.0667,\n",
       "          0.4795, -0.6223]], grad_fn=<AddmmBackward>)"
      ]
     },
     "execution_count": 414,
     "metadata": {},
     "output_type": "execute_result"
    }
   ],
   "source": [
    "h"
   ]
  },
  {
   "cell_type": "code",
   "execution_count": 369,
   "metadata": {},
   "outputs": [
    {
     "data": {
      "text/plain": [
       "tensor([[[0., 0., 0., 0., 1., 0., 0., 0., 0., 0.],\n",
       "         [1., 0., 0., 0., 0., 0., 0., 0., 0., 0.]],\n",
       "\n",
       "        [[0., 0., 0., 0., 1., 0., 0., 0., 0., 0.],\n",
       "         [0., 1., 0., 0., 0., 0., 0., 0., 0., 0.]],\n",
       "\n",
       "        [[0., 0., 0., 0., 1., 0., 0., 0., 0., 0.],\n",
       "         [0., 0., 1., 0., 0., 0., 0., 0., 0., 0.]],\n",
       "\n",
       "        [[0., 0., 0., 0., 1., 0., 0., 0., 0., 0.],\n",
       "         [0., 0., 0., 1., 0., 0., 0., 0., 0., 0.]],\n",
       "\n",
       "        [[0., 0., 0., 0., 1., 0., 0., 0., 0., 0.],\n",
       "         [0., 0., 0., 0., 1., 0., 0., 0., 0., 0.]]])"
      ]
     },
     "execution_count": 369,
     "metadata": {},
     "output_type": "execute_result"
    }
   ],
   "source": [
    "x"
   ]
  },
  {
   "cell_type": "code",
   "execution_count": 370,
   "metadata": {},
   "outputs": [
    {
     "data": {
      "text/plain": [
       "tensor([4, 5, 5, 6, 6], grad_fn=<NotImplemented>)"
      ]
     },
     "execution_count": 370,
     "metadata": {},
     "output_type": "execute_result"
    }
   ],
   "source": [
    "torch.argmax(pred[:, 1],dim=1)"
   ]
  },
  {
   "cell_type": "code",
   "execution_count": 376,
   "metadata": {},
   "outputs": [
    {
     "data": {
      "text/plain": [
       "tensor([[[0., 0., 0., 0., 1., 0., 0., 0., 0., 0.],\n",
       "         [1., 0., 0., 0., 0., 0., 0., 0., 0., 0.]],\n",
       "\n",
       "        [[0., 0., 0., 0., 1., 0., 0., 0., 0., 0.],\n",
       "         [0., 1., 0., 0., 0., 0., 0., 0., 0., 0.]],\n",
       "\n",
       "        [[0., 0., 0., 0., 1., 0., 0., 0., 0., 0.],\n",
       "         [0., 0., 1., 0., 0., 0., 0., 0., 0., 0.]],\n",
       "\n",
       "        [[0., 0., 0., 0., 1., 0., 0., 0., 0., 0.],\n",
       "         [0., 0., 0., 1., 0., 0., 0., 0., 0., 0.]],\n",
       "\n",
       "        [[0., 0., 0., 0., 1., 0., 0., 0., 0., 0.],\n",
       "         [0., 0., 0., 0., 1., 0., 0., 0., 0., 0.]]])"
      ]
     },
     "execution_count": 376,
     "metadata": {},
     "output_type": "execute_result"
    }
   ],
   "source": [
    "x"
   ]
  },
  {
   "cell_type": "code",
   "execution_count": 375,
   "metadata": {},
   "outputs": [
    {
     "name": "stdout",
     "output_type": "stream",
     "text": [
      "pred tensor([4, 4, 4, 4, 4], grad_fn=<NotImplemented>)\n",
      "ans tensor([0, 1, 2, 3, 4])\n",
      "pred tensor([4, 4, 4, 4, 5], grad_fn=<NotImplemented>)\n",
      "ans tensor([1, 2, 3, 4, 5])\n",
      "pred tensor([3, 4, 3, 3, 6], grad_fn=<NotImplemented>)\n",
      "ans tensor([2, 3, 4, 5, 6])\n",
      "pred tensor([4, 5, 5, 5, 6], grad_fn=<NotImplemented>)\n",
      "ans tensor([3, 4, 5, 6, 7])\n",
      "pred tensor([4, 5, 5, 6, 6], grad_fn=<NotImplemented>)\n",
      "ans tensor([4, 5, 6, 7, 8])\n"
     ]
    }
   ],
   "source": [
    "for x, y in dataloader:\n",
    "    pred, h = rnn(x)\n",
    "    print(\"pred\", torch.argmax(pred[:, 1],dim=1))\n",
    "    print(\"ans\", y)"
   ]
  },
  {
   "cell_type": "code",
   "execution_count": 371,
   "metadata": {},
   "outputs": [
    {
     "data": {
      "text/plain": [
       "tensor([4, 5, 6, 7, 8])"
      ]
     },
     "execution_count": 371,
     "metadata": {},
     "output_type": "execute_result"
    }
   ],
   "source": [
    "y"
   ]
  },
  {
   "cell_type": "code",
   "execution_count": 344,
   "metadata": {},
   "outputs": [
    {
     "data": {
      "text/plain": [
       "tensor(2.4156, grad_fn=<NllLossBackward>)"
      ]
     },
     "execution_count": 344,
     "metadata": {},
     "output_type": "execute_result"
    }
   ],
   "source": [
    "loss"
   ]
  },
  {
   "cell_type": "code",
   "execution_count": 321,
   "metadata": {},
   "outputs": [
    {
     "data": {
      "text/plain": [
       "tensor([0, 1, 2, 3, 4, 1, 2, 3, 4, 5, 2, 3, 4, 5, 6, 3, 4, 5, 6, 7, 4, 5, 6, 7,\n",
       "        8])"
      ]
     },
     "execution_count": 321,
     "metadata": {},
     "output_type": "execute_result"
    }
   ],
   "source": [
    "y"
   ]
  },
  {
   "cell_type": "code",
   "execution_count": 309,
   "metadata": {},
   "outputs": [
    {
     "data": {
      "text/plain": [
       "torch.Size([1, 2, 10])"
      ]
     },
     "execution_count": 309,
     "metadata": {},
     "output_type": "execute_result"
    }
   ],
   "source": [
    "h.shape"
   ]
  },
  {
   "cell_type": "code",
   "execution_count": 306,
   "metadata": {},
   "outputs": [
    {
     "data": {
      "text/plain": [
       "torch.Size([25, 2, 10])"
      ]
     },
     "execution_count": 306,
     "metadata": {},
     "output_type": "execute_result"
    }
   ],
   "source": [
    "pred.shape"
   ]
  },
  {
   "cell_type": "markdown",
   "metadata": {},
   "source": [
    "## 演習\n",
    "- RNNをMSEで実装せよ\n",
    "  - なかなかうまくいかないことを確認して欲しい\n",
    "- あまりうまくいかなかったので改善"
   ]
  },
  {
   "cell_type": "markdown",
   "metadata": {},
   "source": [
    "# RNNの計算グラフ"
   ]
  },
  {
   "cell_type": "code",
   "execution_count": 559,
   "metadata": {},
   "outputs": [],
   "source": [
    "from torch.utils.tensorboard import SummaryWriter\n",
    "writer = SummaryWriter()"
   ]
  },
  {
   "cell_type": "code",
   "execution_count": 560,
   "metadata": {},
   "outputs": [],
   "source": [
    "writer.add_graph(rnn, x)"
   ]
  },
  {
   "cell_type": "code",
   "execution_count": 557,
   "metadata": {},
   "outputs": [],
   "source": [
    "write.close()"
   ]
  },
  {
   "cell_type": "code",
   "execution_count": 558,
   "metadata": {},
   "outputs": [
    {
     "data": {
      "text/plain": [
       "tensor([[[0., 0., 0., 0., 1.],\n",
       "         [1., 0., 0., 0., 0.]],\n",
       "\n",
       "        [[0., 0., 0., 0., 1.],\n",
       "         [0., 1., 0., 0., 0.]],\n",
       "\n",
       "        [[0., 0., 0., 0., 1.],\n",
       "         [0., 0., 1., 0., 0.]],\n",
       "\n",
       "        [[0., 0., 0., 0., 1.],\n",
       "         [0., 0., 0., 1., 0.]],\n",
       "\n",
       "        [[0., 0., 0., 0., 1.],\n",
       "         [0., 0., 0., 0., 1.]]])"
      ]
     },
     "execution_count": 558,
     "metadata": {},
     "output_type": "execute_result"
    }
   ],
   "source": [
    "x"
   ]
  },
  {
   "cell_type": "code",
   "execution_count": 551,
   "metadata": {},
   "outputs": [
    {
     "data": {
      "text/plain": [
       "MathRNN(\n",
       "  (rnn): RNN(5, 5, batch_first=True)\n",
       "  (l): Linear(in_features=5, out_features=10, bias=True)\n",
       ")"
      ]
     },
     "execution_count": 551,
     "metadata": {},
     "output_type": "execute_result"
    }
   ],
   "source": [
    "rnn"
   ]
  },
  {
   "cell_type": "markdown",
   "metadata": {},
   "source": [
    "# LSTM"
   ]
  },
  {
   "cell_type": "code",
   "execution_count": 492,
   "metadata": {},
   "outputs": [],
   "source": [
    "lstm = nn.LSTM(5, 5, num_layers=1, batch_first=True)\n",
    "l2 = nn.Linear(5, 10)"
   ]
  },
  {
   "cell_type": "code",
   "execution_count": 522,
   "metadata": {},
   "outputs": [],
   "source": [
    "class MathLSTM(nn.Module):\n",
    "    def __init__(self):\n",
    "        super(MathLSTM, self).__init__()\n",
    "        self.lstm = nn.LSTM(5, 5, num_layers=1, batch_first=True)\n",
    "        self.l = nn.Linear(5, 10)\n",
    "        \n",
    "    def forward(self, x):\n",
    "        pred, hidden = self.lstm(x)\n",
    "        h = pred[:, -1]\n",
    "        return self.l(h)"
   ]
  },
  {
   "cell_type": "code",
   "execution_count": 523,
   "metadata": {},
   "outputs": [],
   "source": [
    "lstm = MathLSTM()"
   ]
  },
  {
   "cell_type": "code",
   "execution_count": 524,
   "metadata": {},
   "outputs": [],
   "source": [
    "dataloader = torch.utils.data.DataLoader(data, batch_size=5)\n",
    "criterion = nn.CrossEntropyLoss()\n",
    "# MSEで学習させたらひどいことになった\n",
    "optimizer = optim.SGD(lstm.parameters(), lr=0.1)"
   ]
  },
  {
   "cell_type": "code",
   "execution_count": 544,
   "metadata": {},
   "outputs": [
    {
     "name": "stdout",
     "output_type": "stream",
     "text": [
      "tensor(0.0007, grad_fn=<NllLossBackward>)\n"
     ]
    }
   ],
   "source": [
    "for i in range(1000):\n",
    "    for x, y in dataloader:\n",
    "        optimizer.zero_grad()\n",
    "        lstm.train()\n",
    "        pred = lstm(x)\n",
    "        loss = criterion(pred, y)\n",
    "        loss.backward()\n",
    "        optimizer.step()\n",
    "    if i % 1000 == 0:\n",
    "        print(loss) "
   ]
  },
  {
   "cell_type": "code",
   "execution_count": 545,
   "metadata": {},
   "outputs": [
    {
     "name": "stdout",
     "output_type": "stream",
     "text": [
      "pred tensor([0, 1, 2, 3, 4], grad_fn=<NotImplemented>)\n",
      "ans tensor([0, 1, 2, 3, 4])\n",
      "pred tensor([1, 2, 3, 4, 5], grad_fn=<NotImplemented>)\n",
      "ans tensor([1, 2, 3, 4, 5])\n",
      "pred tensor([2, 3, 4, 5, 6], grad_fn=<NotImplemented>)\n",
      "ans tensor([2, 3, 4, 5, 6])\n",
      "pred tensor([3, 4, 5, 6, 7], grad_fn=<NotImplemented>)\n",
      "ans tensor([3, 4, 5, 6, 7])\n",
      "pred tensor([4, 5, 6, 7, 8], grad_fn=<NotImplemented>)\n",
      "ans tensor([4, 5, 6, 7, 8])\n"
     ]
    }
   ],
   "source": [
    "for x, y in dataloader:\n",
    "    pred  = lstm(x)\n",
    "    print(\"pred\", torch.argmax(pred, dim=1))\n",
    "    print(\"ans\", y)"
   ]
  },
  {
   "cell_type": "code",
   "execution_count": 597,
   "metadata": {},
   "outputs": [
    {
     "data": {
      "text/plain": [
       "tensor([[5, 6],\n",
       "        [7, 8]])"
      ]
     },
     "execution_count": 597,
     "metadata": {},
     "output_type": "execute_result"
    }
   ],
   "source": [
    "_x = torch.cat([torch.tensor([[1, 2], [5,6]]), torch.tensor([[3,4], [7,8]])]).view(2, 2, 2)\n",
    "torch.transpose(_x, 0, 1)"
   ]
  },
  {
   "cell_type": "markdown",
   "metadata": {},
   "source": [
    "## NaiveなRNNの実装"
   ]
  },
  {
   "cell_type": "code",
   "execution_count": 575,
   "metadata": {},
   "outputs": [],
   "source": [
    "import torch.nn.functional as F"
   ]
  },
  {
   "cell_type": "code",
   "execution_count": 642,
   "metadata": {},
   "outputs": [],
   "source": [
    "class NaiveRNNCell(nn.Module):\n",
    "    def __init__(self, input_size, hidden_size):\n",
    "        super(NaiveRNNCell, self).__init__()\n",
    "        \n",
    "        self.hidden_size = hidden_size\n",
    "        self.i2h = nn.Linear(input_size, hidden_size)\n",
    "        self.h2h = nn.Linear(hidden_size, hidden_size)\n",
    "        \n",
    "    def forward(self, inp, hidden):\n",
    "        return F.relu(self.h2h(hidden) + self.i2h(inp))"
   ]
  },
  {
   "cell_type": "code",
   "execution_count": 643,
   "metadata": {},
   "outputs": [],
   "source": [
    "class NaiveRNN(nn.Module):\n",
    "    def __init__(self, input_size, hidden_size):\n",
    "        super(NaiveRNN, self).__init__()\n",
    "        \n",
    "        self.hidden_size = hidden_size\n",
    "        self.i2h = nn.Linear(input_size, hidden_size)\n",
    "        self.h2h = nn.Linear(hidden_size, hidden_size)\n",
    "        self.hidden = torch.zeros(hidden_size)\n",
    "        self.rnn_cell = NaiveRNNCell(input_size, hidden_size)\n",
    "        \n",
    "    def forward(self, inputs):\n",
    "        outputs = []\n",
    "        seq_len = inputs.shape[1]\n",
    "        batch_size = inputs.shape[0]\n",
    "        for i in range(seq_len):\n",
    "            inp = inputs[:, i]\n",
    "            self.hidden = self.rnn_cell(inp, self.hidden)\n",
    "            outputs.append(self.hidden)\n",
    "        \n",
    "        _y = torch.cat(outputs).view(seq_len, batch_size, -1)\n",
    "        return torch.transpose(_y, 0, 1)   "
   ]
  },
  {
   "cell_type": "code",
   "execution_count": 607,
   "metadata": {},
   "outputs": [],
   "source": [
    "class NaiveRNN(nn.Module):\n",
    "    def __init__(self, input_size, hidden_size):\n",
    "        super(NaiveRNN, self).__init__()\n",
    "        \n",
    "        self.hidden_size = hidden_size\n",
    "        self.i2h = nn.Linear(input_size, hidden_size)\n",
    "        self.h2h = nn.Linear(hidden_size, hidden_size)\n",
    "        self.hidden = torch.zeros(hidden_size)\n",
    "        \n",
    "    def forward(self, inputs):\n",
    "        outputs = []\n",
    "        seq_len = inputs.shape[1]\n",
    "        batch_size = inputs.shape[0]\n",
    "        for i in range(seq_len):\n",
    "            inp = inputs[:, i]\n",
    "            self.hidden = F.relu(self.h2h(self.hidden) + self.i2h(inp))\n",
    "            outputs.append(self.hidden)\n",
    "        \n",
    "        _y = torch.cat(outputs).view(seq_len, batch_size, -1)\n",
    "        return torch.transpose(_y, 0, 1)"
   ]
  },
  {
   "cell_type": "code",
   "execution_count": 633,
   "metadata": {},
   "outputs": [],
   "source": [
    "class NMath(nn.Module):\n",
    "    def __init__(self):\n",
    "        super(NMath, self).__init__()\n",
    "        self.rnn = NaiveRNN(5, 5)\n",
    "        self.l = nn.Linear(5, 10)\n",
    "        \n",
    "    def forward(self, x):\n",
    "        pred = self.rnn(x)\n",
    "        h = pred[:, -1]\n",
    "        return self.l(h)"
   ]
  },
  {
   "cell_type": "code",
   "execution_count": 634,
   "metadata": {},
   "outputs": [],
   "source": [
    "n_rnn = NaiveRNN(5, 5)"
   ]
  },
  {
   "cell_type": "code",
   "execution_count": 636,
   "metadata": {},
   "outputs": [
    {
     "data": {
      "text/plain": [
       "torch.Size([5, 2, 5])"
      ]
     },
     "execution_count": 636,
     "metadata": {},
     "output_type": "execute_result"
    }
   ],
   "source": [
    "n_rnn(x).shape"
   ]
  },
  {
   "cell_type": "code",
   "execution_count": 609,
   "metadata": {},
   "outputs": [
    {
     "data": {
      "text/plain": [
       "torch.Size([5, 2, 5])"
      ]
     },
     "execution_count": 609,
     "metadata": {},
     "output_type": "execute_result"
    }
   ],
   "source": [
    "x.shape"
   ]
  },
  {
   "cell_type": "code",
   "execution_count": 614,
   "metadata": {},
   "outputs": [],
   "source": [
    "n_math  = NMath()"
   ]
  },
  {
   "cell_type": "code",
   "execution_count": 615,
   "metadata": {},
   "outputs": [],
   "source": [
    "n_optimizer = optim.SGD(n_math.parameters(), lr=0.1)"
   ]
  },
  {
   "cell_type": "code",
   "execution_count": null,
   "metadata": {},
   "outputs": [],
   "source": []
  },
  {
   "cell_type": "code",
   "execution_count": 647,
   "metadata": {},
   "outputs": [
    {
     "ename": "RuntimeError",
     "evalue": "Trying to backward through the graph a second time, but the buffers have already been freed. Specify retain_graph=True when calling backward the first time.",
     "output_type": "error",
     "traceback": [
      "\u001b[0;31m---------------------------------------------------------------------------\u001b[0m",
      "\u001b[0;31mRuntimeError\u001b[0m                              Traceback (most recent call last)",
      "\u001b[0;32m<ipython-input-647-516cab9ec9ba>\u001b[0m in \u001b[0;36m<module>\u001b[0;34m\u001b[0m\n\u001b[1;32m      5\u001b[0m         \u001b[0mh\u001b[0m \u001b[0;34m=\u001b[0m \u001b[0mn_math\u001b[0m\u001b[0;34m(\u001b[0m\u001b[0mx\u001b[0m\u001b[0;34m)\u001b[0m\u001b[0;34m\u001b[0m\u001b[0;34m\u001b[0m\u001b[0m\n\u001b[1;32m      6\u001b[0m         \u001b[0mloss\u001b[0m \u001b[0;34m=\u001b[0m \u001b[0mcriterion\u001b[0m\u001b[0;34m(\u001b[0m\u001b[0mh\u001b[0m\u001b[0;34m,\u001b[0m \u001b[0my\u001b[0m\u001b[0;34m)\u001b[0m\u001b[0;34m\u001b[0m\u001b[0;34m\u001b[0m\u001b[0m\n\u001b[0;32m----> 7\u001b[0;31m         \u001b[0mloss\u001b[0m\u001b[0;34m.\u001b[0m\u001b[0mbackward\u001b[0m\u001b[0;34m(\u001b[0m\u001b[0mretain_graph\u001b[0m\u001b[0;34m=\u001b[0m\u001b[0;32mTrue\u001b[0m\u001b[0;34m)\u001b[0m\u001b[0;34m\u001b[0m\u001b[0;34m\u001b[0m\u001b[0m\n\u001b[0m\u001b[1;32m      8\u001b[0m         \u001b[0moptimizer\u001b[0m\u001b[0;34m.\u001b[0m\u001b[0mstep\u001b[0m\u001b[0;34m(\u001b[0m\u001b[0;34m)\u001b[0m\u001b[0;34m\u001b[0m\u001b[0;34m\u001b[0m\u001b[0m\n\u001b[1;32m      9\u001b[0m     \u001b[0;32mif\u001b[0m \u001b[0mi\u001b[0m \u001b[0;34m%\u001b[0m \u001b[0;36m100\u001b[0m \u001b[0;34m==\u001b[0m \u001b[0;36m0\u001b[0m\u001b[0;34m:\u001b[0m\u001b[0;34m\u001b[0m\u001b[0;34m\u001b[0m\u001b[0m\n",
      "\u001b[0;32m~/.cache/pypoetry/virtualenvs/pytorch-sample-ZMS8u-Cf-py3.7/lib/python3.7/site-packages/torch/tensor.py\u001b[0m in \u001b[0;36mbackward\u001b[0;34m(self, gradient, retain_graph, create_graph)\u001b[0m\n\u001b[1;32m    196\u001b[0m                 \u001b[0mproducts\u001b[0m\u001b[0;34m.\u001b[0m \u001b[0mDefaults\u001b[0m \u001b[0mto\u001b[0m\u001b[0;31m \u001b[0m\u001b[0;31m`\u001b[0m\u001b[0;31m`\u001b[0m\u001b[0;32mFalse\u001b[0m\u001b[0;31m`\u001b[0m\u001b[0;31m`\u001b[0m\u001b[0;34m.\u001b[0m\u001b[0;34m\u001b[0m\u001b[0;34m\u001b[0m\u001b[0m\n\u001b[1;32m    197\u001b[0m         \"\"\"\n\u001b[0;32m--> 198\u001b[0;31m         \u001b[0mtorch\u001b[0m\u001b[0;34m.\u001b[0m\u001b[0mautograd\u001b[0m\u001b[0;34m.\u001b[0m\u001b[0mbackward\u001b[0m\u001b[0;34m(\u001b[0m\u001b[0mself\u001b[0m\u001b[0;34m,\u001b[0m \u001b[0mgradient\u001b[0m\u001b[0;34m,\u001b[0m \u001b[0mretain_graph\u001b[0m\u001b[0;34m,\u001b[0m \u001b[0mcreate_graph\u001b[0m\u001b[0;34m)\u001b[0m\u001b[0;34m\u001b[0m\u001b[0;34m\u001b[0m\u001b[0m\n\u001b[0m\u001b[1;32m    199\u001b[0m \u001b[0;34m\u001b[0m\u001b[0m\n\u001b[1;32m    200\u001b[0m     \u001b[0;32mdef\u001b[0m \u001b[0mregister_hook\u001b[0m\u001b[0;34m(\u001b[0m\u001b[0mself\u001b[0m\u001b[0;34m,\u001b[0m \u001b[0mhook\u001b[0m\u001b[0;34m)\u001b[0m\u001b[0;34m:\u001b[0m\u001b[0;34m\u001b[0m\u001b[0;34m\u001b[0m\u001b[0m\n",
      "\u001b[0;32m~/.cache/pypoetry/virtualenvs/pytorch-sample-ZMS8u-Cf-py3.7/lib/python3.7/site-packages/torch/autograd/__init__.py\u001b[0m in \u001b[0;36mbackward\u001b[0;34m(tensors, grad_tensors, retain_graph, create_graph, grad_variables)\u001b[0m\n\u001b[1;32m     98\u001b[0m     Variable._execution_engine.run_backward(\n\u001b[1;32m     99\u001b[0m         \u001b[0mtensors\u001b[0m\u001b[0;34m,\u001b[0m \u001b[0mgrad_tensors\u001b[0m\u001b[0;34m,\u001b[0m \u001b[0mretain_graph\u001b[0m\u001b[0;34m,\u001b[0m \u001b[0mcreate_graph\u001b[0m\u001b[0;34m,\u001b[0m\u001b[0;34m\u001b[0m\u001b[0;34m\u001b[0m\u001b[0m\n\u001b[0;32m--> 100\u001b[0;31m         allow_unreachable=True)  # allow_unreachable flag\n\u001b[0m\u001b[1;32m    101\u001b[0m \u001b[0;34m\u001b[0m\u001b[0m\n\u001b[1;32m    102\u001b[0m \u001b[0;34m\u001b[0m\u001b[0m\n",
      "\u001b[0;31mRuntimeError\u001b[0m: Trying to backward through the graph a second time, but the buffers have already been freed. Specify retain_graph=True when calling backward the first time."
     ]
    }
   ],
   "source": [
    "for i in range(1000):\n",
    "    for x, y in dataloader:\n",
    "        optimizer.zero_grad()\n",
    "        n_math.train()\n",
    "        h = n_math(x)\n",
    "        loss = criterion(h, y)\n",
    "        loss.backward(retain_graph=True)\n",
    "        optimizer.step()\n",
    "    if i % 100 == 0:\n",
    "        print(loss) \n",
    "        writer.add_scalar('Loss/train', loss, i)"
   ]
  },
  {
   "cell_type": "code",
   "execution_count": 641,
   "metadata": {},
   "outputs": [
    {
     "ename": "RuntimeError",
     "evalue": "Trying to backward through the graph a second time, but the buffers have already been freed. Specify retain_graph=True when calling backward the first time.",
     "output_type": "error",
     "traceback": [
      "\u001b[0;31m---------------------------------------------------------------------------\u001b[0m",
      "\u001b[0;31mRuntimeError\u001b[0m                              Traceback (most recent call last)",
      "\u001b[0;32m<ipython-input-641-52a0569421b1>\u001b[0m in \u001b[0;36m<module>\u001b[0;34m\u001b[0m\n\u001b[0;32m----> 1\u001b[0;31m \u001b[0mloss\u001b[0m\u001b[0;34m.\u001b[0m\u001b[0mbackward\u001b[0m\u001b[0;34m(\u001b[0m\u001b[0;34m)\u001b[0m\u001b[0;34m\u001b[0m\u001b[0;34m\u001b[0m\u001b[0m\n\u001b[0m",
      "\u001b[0;32m~/.cache/pypoetry/virtualenvs/pytorch-sample-ZMS8u-Cf-py3.7/lib/python3.7/site-packages/torch/tensor.py\u001b[0m in \u001b[0;36mbackward\u001b[0;34m(self, gradient, retain_graph, create_graph)\u001b[0m\n\u001b[1;32m    196\u001b[0m                 \u001b[0mproducts\u001b[0m\u001b[0;34m.\u001b[0m \u001b[0mDefaults\u001b[0m \u001b[0mto\u001b[0m\u001b[0;31m \u001b[0m\u001b[0;31m`\u001b[0m\u001b[0;31m`\u001b[0m\u001b[0;32mFalse\u001b[0m\u001b[0;31m`\u001b[0m\u001b[0;31m`\u001b[0m\u001b[0;34m.\u001b[0m\u001b[0;34m\u001b[0m\u001b[0;34m\u001b[0m\u001b[0m\n\u001b[1;32m    197\u001b[0m         \"\"\"\n\u001b[0;32m--> 198\u001b[0;31m         \u001b[0mtorch\u001b[0m\u001b[0;34m.\u001b[0m\u001b[0mautograd\u001b[0m\u001b[0;34m.\u001b[0m\u001b[0mbackward\u001b[0m\u001b[0;34m(\u001b[0m\u001b[0mself\u001b[0m\u001b[0;34m,\u001b[0m \u001b[0mgradient\u001b[0m\u001b[0;34m,\u001b[0m \u001b[0mretain_graph\u001b[0m\u001b[0;34m,\u001b[0m \u001b[0mcreate_graph\u001b[0m\u001b[0;34m)\u001b[0m\u001b[0;34m\u001b[0m\u001b[0;34m\u001b[0m\u001b[0m\n\u001b[0m\u001b[1;32m    199\u001b[0m \u001b[0;34m\u001b[0m\u001b[0m\n\u001b[1;32m    200\u001b[0m     \u001b[0;32mdef\u001b[0m \u001b[0mregister_hook\u001b[0m\u001b[0;34m(\u001b[0m\u001b[0mself\u001b[0m\u001b[0;34m,\u001b[0m \u001b[0mhook\u001b[0m\u001b[0;34m)\u001b[0m\u001b[0;34m:\u001b[0m\u001b[0;34m\u001b[0m\u001b[0;34m\u001b[0m\u001b[0m\n",
      "\u001b[0;32m~/.cache/pypoetry/virtualenvs/pytorch-sample-ZMS8u-Cf-py3.7/lib/python3.7/site-packages/torch/autograd/__init__.py\u001b[0m in \u001b[0;36mbackward\u001b[0;34m(tensors, grad_tensors, retain_graph, create_graph, grad_variables)\u001b[0m\n\u001b[1;32m     98\u001b[0m     Variable._execution_engine.run_backward(\n\u001b[1;32m     99\u001b[0m         \u001b[0mtensors\u001b[0m\u001b[0;34m,\u001b[0m \u001b[0mgrad_tensors\u001b[0m\u001b[0;34m,\u001b[0m \u001b[0mretain_graph\u001b[0m\u001b[0;34m,\u001b[0m \u001b[0mcreate_graph\u001b[0m\u001b[0;34m,\u001b[0m\u001b[0;34m\u001b[0m\u001b[0;34m\u001b[0m\u001b[0m\n\u001b[0;32m--> 100\u001b[0;31m         allow_unreachable=True)  # allow_unreachable flag\n\u001b[0m\u001b[1;32m    101\u001b[0m \u001b[0;34m\u001b[0m\u001b[0m\n\u001b[1;32m    102\u001b[0m \u001b[0;34m\u001b[0m\u001b[0m\n",
      "\u001b[0;31mRuntimeError\u001b[0m: Trying to backward through the graph a second time, but the buffers have already been freed. Specify retain_graph=True when calling backward the first time."
     ]
    }
   ],
   "source": [
    "loss.backward()"
   ]
  },
  {
   "cell_type": "code",
   "execution_count": 638,
   "metadata": {},
   "outputs": [
    {
     "data": {
      "text/plain": [
       "tensor(2.1491, grad_fn=<NllLossBackward>)"
      ]
     },
     "execution_count": 638,
     "metadata": {},
     "output_type": "execute_result"
    }
   ],
   "source": [
    "loss"
   ]
  },
  {
   "cell_type": "markdown",
   "metadata": {},
   "source": [
    "## NaiveなLSTM実装\n",
    "- 前提 bathch, sequence, dimが入力\n",
    "- initiのときの引数は input_dim, hidden_dim"
   ]
  },
  {
   "cell_type": "code",
   "execution_count": null,
   "metadata": {},
   "outputs": [],
   "source": []
  }
 ],
 "metadata": {
  "kernelspec": {
   "display_name": "Python 3",
   "language": "python",
   "name": "python3"
  },
  "language_info": {
   "codemirror_mode": {
    "name": "ipython",
    "version": 3
   },
   "file_extension": ".py",
   "mimetype": "text/x-python",
   "name": "python",
   "nbconvert_exporter": "python",
   "pygments_lexer": "ipython3",
   "version": "3.7.4"
  }
 },
 "nbformat": 4,
 "nbformat_minor": 4
}
