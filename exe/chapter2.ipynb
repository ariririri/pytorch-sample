{
 "cells": [
  {
   "cell_type": "markdown",
   "metadata": {},
   "source": [
    "## 演習\n",
    "- 以下を実装してください.\n",
    "  - 最初はPytorch\n",
    "  - 余力があればnumpyで\n",
    "- 実装するもの\n",
    "  - クロスエントロピー\n",
    "  - ソフトマックス回帰の仮説\n",
    "- 条件\n",
    "  - パラメーター$W$を3×3行列\n",
    "  - 入力、出力ともに三次元に固"
   ]
  },
  {
   "cell_type": "code",
   "execution_count": 6,
   "metadata": {},
   "outputs": [],
   "source": [
    "import torch\n",
    "import torch.nn as nn\n",
    "import torch.nn.functional as F"
   ]
  },
  {
   "cell_type": "markdown",
   "metadata": {},
   "source": [
    "### 回答"
   ]
  },
  {
   "cell_type": "code",
   "execution_count": 20,
   "metadata": {},
   "outputs": [
    {
     "data": {
      "text/plain": [
       "Softmax(dim=tensor([[2.3139, 2.4260, 4.3950]], grad_fn=<MmBackward>))"
      ]
     },
     "execution_count": 20,
     "metadata": {},
     "output_type": "execute_result"
    }
   ],
   "source": [
    "W = torch.rand(3, 3, requires_grad=True)\n",
    "x = torch.tensor([[1., 2., 3.]])\n",
    "# 仮説 \n",
    "nn.Softmax(F.linear(x, W))"
   ]
  },
  {
   "cell_type": "code",
   "execution_count": 37,
   "metadata": {},
   "outputs": [
    {
     "name": "stdout",
     "output_type": "stream",
     "text": [
      "tensor(2.2036, grad_fn=<NllLossBackward>)\n"
     ]
    },
    {
     "data": {
      "text/plain": [
       "tensor(2.2036, grad_fn=<NllLossBackward>)"
      ]
     },
     "execution_count": 37,
     "metadata": {},
     "output_type": "execute_result"
    }
   ],
   "source": [
    "criterion = nn.CrossEntropyLoss() # 損失の定義\n",
    "print(criterion(F.linear(x, W), torch.tensor([1])))\n",
    "\n",
    "## Softmax回帰の出力＋普通の損失\n",
    "criterion2 = nn.NLLLoss()\n",
    "o = nn.Softmax(dim=1)((F.linear(x, W)))\n",
    "a = torch.tensor([1])\n",
    "criterion2(torch.log(o), a)"
   ]
  },
  {
   "cell_type": "code",
   "execution_count": 30,
   "metadata": {},
   "outputs": [
    {
     "data": {
      "text/plain": [
       "Softmax(dim=tensor([[2.3139, 2.4260, 4.3950]], grad_fn=<MmBackward>))"
      ]
     },
     "execution_count": 30,
     "metadata": {},
     "output_type": "execute_result"
    }
   ],
   "source": [
    "o"
   ]
  },
  {
   "cell_type": "markdown",
   "metadata": {},
   "source": [
    "## 演習問題\n",
    "- 上ではデータが一つの場合のクロスエントロピーを計算した\n",
    "- データが$D = (x_1, y_1), \\ldots (x_N, y_N)$の場合のクロスエントロピーを計算せ"
   ]
  },
  {
   "cell_type": "markdown",
   "metadata": {},
   "source": [
    "### 回答\n",
    "$$\n",
    "\\frac{1}{N}  \\left( \\sum_{\\ell = 1}^N  -  q^{(\\ell)}_j x^{(\\ell)}_i +  \\frac{x^{(\\ell)}_i \\exp(\\sum_{i=1}^n w_{ji}x^{(\\ell)}_i)}{\\sum_{k=1}^m \\exp(\\sum_{i=1}^n w_{ki}x^{(\\ell)}_i)}  \\right)\n",
    "$$"
   ]
  },
  {
   "cell_type": "markdown",
   "metadata": {},
   "source": [
    "## 演習問題\n",
    "- ロジスティック回帰のクロスエントロピーの微分を計算せよ"
   ]
  },
  {
   "cell_type": "markdown",
   "metadata": {},
   "source": [
    "### 回答\n",
    "\n",
    "$$\n",
    "\\left(\\sum_{k=1}^N x_{ki}(y_k - \\sigma(wx_k)), \\ldots, \\sum_{k=1}^N x_{kn}(y_k - \\sigma(wx_k)\\right)\n",
    "$$"
   ]
  },
  {
   "cell_type": "markdown",
   "metadata": {},
   "source": [
    "## 確認の演習問題\n",
    "- シグモイド関数を微分せよ.\n",
    "- $x_1, x_2 \\in \\mathbb{R}^2$ とし $y_1, y_2 \\in  \\{0, 1\\}$とする.\n",
    "  - パラメータ$w$を二次元のベクトルとして,ロジスティック回帰の式を記述せよ\n",
    "  - ロジスティック回帰のクロスエントロピーを記述せよ\n",
    "  - $x_1 = (2, 3)$, $x_2 = (3, 1)$, $y_1 = 1, y_2 = 0$とした時,クロスエントロピーのヤコビ行列を計算せよ"
   ]
  },
  {
   "cell_type": "markdown",
   "metadata": {},
   "source": [
    "### 回答\n",
    "- シグモイド関数の微分は$\\sigma(x)(1 - \\sigma(x))$"
   ]
  },
  {
   "cell_type": "code",
   "execution_count": 60,
   "metadata": {},
   "outputs": [],
   "source": [
    "w = torch.rand(2, requires_grad=True)\n",
    "x1 = torch.tensor([2., 4.], requires_grad=True)\n",
    "x2 = torch.tensor([3., 1.], requires_grad=True)\n",
    "y1 = torch.tensor([1])\n",
    "y2 = torch.tensor([0])"
   ]
  },
  {
   "cell_type": "markdown",
   "metadata": {},
   "source": [
    "- ロジスティック回帰: $\\sigma(wx)$"
   ]
  },
  {
   "cell_type": "code",
   "execution_count": 61,
   "metadata": {},
   "outputs": [],
   "source": [
    "o = y1 * torch.log(torch.sigmoid(w.dot(x1)))  + (1 -y1) * torch.log(1 - torch.sigmoid(w.dot(x1)))"
   ]
  },
  {
   "cell_type": "code",
   "execution_count": 62,
   "metadata": {},
   "outputs": [],
   "source": [
    "o += y2 * torch.log(torch.sigmoid(w.dot(x2)))  + (1 -y2) * torch.log(1 - torch.sigmoid(w.dot(x2)))"
   ]
  },
  {
   "cell_type": "code",
   "execution_count": 63,
   "metadata": {},
   "outputs": [
    {
     "data": {
      "text/plain": [
       "tensor([-1.2899], grad_fn=<AddBackward0>)"
      ]
     },
     "execution_count": 63,
     "metadata": {},
     "output_type": "execute_result"
    }
   ],
   "source": [
    "o"
   ]
  },
  {
   "cell_type": "code",
   "execution_count": 65,
   "metadata": {},
   "outputs": [
    {
     "data": {
      "text/plain": [
       "(tensor([0.0106, 0.0492]), tensor([-0.0746, -0.3472]))"
      ]
     },
     "execution_count": 65,
     "metadata": {},
     "output_type": "execute_result"
    }
   ],
   "source": [
    "torch.autograd.grad(o, [x1, x2], retain_graph=True)"
   ]
  },
  {
   "cell_type": "markdown",
   "metadata": {},
   "source": [
    "\n",
    "## 演習\n",
    "- Sofmax回帰を実装\n",
    "  - pytorchを使ってSoftmax回帰をしてください\n",
    "    - データはirisを使う.\n",
    "  - (時間があれば)sklearnを使いSoftmax回帰をする.\n",
    "  - (時間があれば)sklearnの乳がんのデータを使い,自作のロジスティック回帰で実装しよう.\n",
    "- よければ評価データと訓練データに対し,Accuracyを測定しよう\n",
    "  - 二値ではないので,今回はAccuracyのみ"
   ]
  },
  {
   "cell_type": "markdown",
   "metadata": {},
   "source": [
    "### 回答"
   ]
  },
  {
   "cell_type": "code",
   "execution_count": 66,
   "metadata": {},
   "outputs": [],
   "source": [
    "from sklearn.datasets import load_iris\n",
    "from sklearn.model_selection import train_test_split\n",
    "iris = load_iris()\n",
    "\n",
    "# データの分割\n",
    "X_train, X_valid, y_train, y_valid = train_test_split(iris.data, iris.target, test_size=0.2)"
   ]
  },
  {
   "cell_type": "code",
   "execution_count": 67,
   "metadata": {},
   "outputs": [],
   "source": [
    "class IrisDataset(torch.utils.data.Dataset):\n",
    "    def __init__(self, data, labels, transform=None):\n",
    "        self.data = data\n",
    "        self.labels = labels\n",
    "        self.transform = transform\n",
    "        \n",
    "    def __len__(self):\n",
    "        return len(self.labels)\n",
    "        \n",
    "    def __getitem__(self, index):\n",
    "        \n",
    "        data = self.data[index]\n",
    "        label = self.labels[index]\n",
    "        \n",
    "        if not self.transform is None:\n",
    "            data, label = self.transform(data, label)\n",
    "        \n",
    "        return data, label"
   ]
  },
  {
   "cell_type": "code",
   "execution_count": 68,
   "metadata": {},
   "outputs": [],
   "source": [
    "def iris_transform(data, label):\n",
    "    # inputはdoubleをfloatにしている.\n",
    "    return torch.tensor(data).float(), torch.tensor(label)\n",
    "\n",
    "iris = load_iris()\n",
    "X_train, X_valid, y_train, y_valid = train_test_split(iris.data, iris.target, test_size=0.2)\n",
    "\n",
    "iris_train_dataset = IrisDataset(X_train, y_train, iris_transform)\n",
    "iris_valid_dataset = IrisDataset(X_valid, y_valid, iris_transform)"
   ]
  },
  {
   "cell_type": "code",
   "execution_count": 69,
   "metadata": {},
   "outputs": [],
   "source": [
    "batch_size  = 24 # ミニバッチのデータの数\n",
    "iris_train_dataloader = torch.utils.data.DataLoader(iris_train_dataset, batch_size=batch_size, shuffle=True)\n",
    "iris_valid_dataloader = torch.utils.data.DataLoader(iris_valid_dataset, batch_size=batch_size, shuffle=True)"
   ]
  },
  {
   "cell_type": "code",
   "execution_count": 70,
   "metadata": {},
   "outputs": [],
   "source": [
    "model = nn.Linear(4, 3)\n",
    "\n",
    "max_epoch = 100 #\n",
    "\n",
    "criterion = nn.CrossEntropyLoss() # 損失の定義\n",
    "optimizer = torch.optim.SGD(model.parameters(), lr=0.01) #(確率的)勾配降下法"
   ]
  },
  {
   "cell_type": "code",
   "execution_count": 136,
   "metadata": {},
   "outputs": [],
   "source": [
    "model.train()\n",
    "for data, target in iris_train_dataloader: # 入力と正解\n",
    "    optimizer.zero_grad() # 勾配の初期化\n",
    "    output = model(data) # 仮説で値代入\n",
    "    loss = criterion(output, target) # 損失\n",
    "    loss.backward() # 微分の計算\n",
    "    optimizer.step() # パラメータの更新"
   ]
  },
  {
   "cell_type": "code",
   "execution_count": 137,
   "metadata": {},
   "outputs": [
    {
     "name": "stdout",
     "output_type": "stream",
     "text": [
      "accuracy 0.875\n"
     ]
    }
   ],
   "source": [
    "from sklearn.metrics import precision_score, recall_score, accuracy_score\n",
    "\n",
    "pred = output.argmax(axis=1).cpu() # 正解予測のラベル取得\n",
    "pred = pred.detach().numpy() # numpyに変換\n",
    "ans = target.cpu().numpy() \n",
    "# numpyにしなくても動作する.\n",
    "print(\"accuracy\", accuracy_score(ans, pred)) # 他も一緒だが"
   ]
  }
 ],
 "metadata": {
  "kernelspec": {
   "display_name": "Python 3",
   "language": "python",
   "name": "python3"
  },
  "language_info": {
   "codemirror_mode": {
    "name": "ipython",
    "version": 3
   },
   "file_extension": ".py",
   "mimetype": "text/x-python",
   "name": "python",
   "nbconvert_exporter": "python",
   "pygments_lexer": "ipython3",
   "version": "3.7.0"
  }
 },
 "nbformat": 4,
 "nbformat_minor": 4
}
